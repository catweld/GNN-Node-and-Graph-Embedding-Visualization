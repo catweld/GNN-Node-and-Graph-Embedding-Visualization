{
 "cells": [
  {
   "cell_type": "markdown",
   "metadata": {
    "deletable": true,
    "editable": true
   },
   "source": [
    "# Form Feature Extraction Speed Test"
   ]
  },
  {
   "cell_type": "code",
   "execution_count": 13,
   "metadata": {
    "collapsed": true,
    "deletable": true,
    "editable": true
   },
   "outputs": [],
   "source": [
    "import sys\n",
    "sys.path.insert(0, '..')\n",
    "import time\n",
    "\n",
    "import numpy as np\n",
    "import matplotlib.pyplot as plt\n",
    "\n",
    "%matplotlib inline"
   ]
  },
  {
   "cell_type": "code",
   "execution_count": 14,
   "metadata": {
    "collapsed": true,
    "deletable": true,
    "editable": true
   },
   "outputs": [],
   "source": [
    "import numpy as np\n",
    "\n",
    "from lib.segmentation import FormFeatureExtraction\n",
    "\n",
    "def _invalidate_cache(extractor):\n",
    "    for method in extractor.__dict__.copy():\n",
    "        del extractor.__dict__[method]\n",
    "    extractor.segmentation = segmentation\n",
    "    \n",
    "def plot_bar(segmentation, cache=False):\n",
    "    extractor = FormFeatureExtraction(segmentation)\n",
    "\n",
    "    times = []\n",
    "    for method in FormFeatureExtraction.methods:\n",
    "        t = time.process_time()\n",
    "        getattr(extractor, method)\n",
    "        t = time.process_time() - t\n",
    "        times.append(t)\n",
    "        if not cache:\n",
    "            _invalidate_cache(extractor)\n",
    "\n",
    "    times = np.array(times)\n",
    "    percentages = 100 * times / times.sum()\n",
    "\n",
    "    plt.rcParams['figure.figsize'] = (15, 5)\n",
    "    ticks = range(percentages.size)\n",
    "    plt.bar(ticks, percentages, color='black', tick_label=ticks)\n",
    "    plt.ylabel('Percentage')"
   ]
  },
  {
   "cell_type": "markdown",
   "metadata": {
    "deletable": true,
    "editable": true
   },
   "source": [
    "## Generate PascalVOC segmentation"
   ]
  },
  {
   "cell_type": "code",
   "execution_count": 15,
   "metadata": {
    "collapsed": false,
    "deletable": true,
    "editable": true
   },
   "outputs": [],
   "source": [
    "from lib.datasets import PascalVOC\n",
    "from lib.segmentation import slic\n",
    "\n",
    "image = PascalVOC('../test_data').test.next_batch(3, shuffle=False)[0][2]\n",
    "segmentation = slic(image, num_segments=800, compactness=30, max_iterations=10, sigma=0)"
   ]
  },
  {
   "cell_type": "markdown",
   "metadata": {
    "deletable": true,
    "editable": true
   },
   "source": [
    "## Perform speed test"
   ]
  },
  {
   "cell_type": "code",
   "execution_count": 16,
   "metadata": {
    "collapsed": false,
    "deletable": true,
    "editable": true
   },
   "outputs": [
    {
     "data": {
      "image/png": "[encoded data removed]",
      "text/plain": [
       "<matplotlib.figure.Figure at 0x10efa7908>"
      ]
     },
     "metadata": {},
     "output_type": "display_data"
    }
   ],
   "source": [
    "plot_bar(segmentation, cache=False)"
   ]
  },
  {
   "cell_type": "code",
   "execution_count": 17,
   "metadata": {
    "collapsed": false,
    "deletable": true,
    "editable": true
   },
   "outputs": [
    {
     "name": "stdout",
     "output_type": "stream",
     "text": [
      "0: area\n",
      "1: bbox_area\n",
      "2: bbox_height\n",
      "3: bbox_width\n",
      "4: centroid_x\n",
      "5: centroid_y\n",
      "6: eccentricity\n",
      "7: equivalent_diameter\n",
      "8: extent\n",
      "9: hu_1\n",
      "10: hu_2\n",
      "11: hu_3\n",
      "12: hu_4\n",
      "13: hu_5\n",
      "14: hu_6\n",
      "15: hu_7\n",
      "16: inertia_tensor_02\n",
      "17: inertia_tensor_11\n",
      "18: inertia_tensor_20\n",
      "19: inertia_tensor_eigvals_1\n",
      "20: inertia_tensor_eigvals_2\n",
      "21: major_axis_length\n",
      "22: minor_axis_length\n",
      "23: mu_02\n",
      "24: mu_03\n",
      "25: mu_11\n",
      "26: mu_12\n",
      "27: mu_20\n",
      "28: mu_21\n",
      "29: mu_30\n",
      "30: nu_02\n",
      "31: nu_03\n",
      "32: nu_11\n",
      "33: nu_12\n",
      "34: nu_20\n",
      "35: nu_21\n",
      "36: nu_30\n",
      "37: orientation\n"
     ]
    }
   ],
   "source": [
    "for i, method in enumerate(FormFeatureExtraction.methods):\n",
    "    print('{}: {}'.format(i, method))"
   ]
  },
  {
   "cell_type": "markdown",
   "metadata": {
    "deletable": true,
    "editable": true
   },
   "source": [
    "## Validate that cache works"
   ]
  },
  {
   "cell_type": "code",
   "execution_count": 18,
   "metadata": {
    "collapsed": false,
    "deletable": true,
    "editable": true
   },
   "outputs": [
    {
     "data": {
      "image/png": "[encoded data removed]",
      "text/plain": [
       "<matplotlib.figure.Figure at 0x10efa7320>"
      ]
     },
     "metadata": {},
     "output_type": "display_data"
    }
   ],
   "source": [
    "plot_bar(segmentation, cache=True)"
   ]
  }
 ],
 "metadata": {
  "kernelspec": {
   "display_name": "Python 3",
   "language": "python",
   "name": "python3"
  },
  "language_info": {
   "codemirror_mode": {
    "name": "ipython",
    "version": 3
   },
   "file_extension": ".py",
   "mimetype": "text/x-python",
   "name": "python",
   "nbconvert_exporter": "python",
   "pygments_lexer": "ipython3",
   "version": "3.6.0"
  }
 },
 "nbformat": 4,
 "nbformat_minor": 2
}
