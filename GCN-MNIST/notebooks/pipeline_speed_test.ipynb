{
 "cells": [
  {
   "cell_type": "markdown",
   "metadata": {
    "deletable": true,
    "editable": true
   },
   "source": [
    "# Pipeline Speed Test"
   ]
  },
  {
   "cell_type": "code",
   "execution_count": 1,
   "metadata": {
    "collapsed": false,
    "deletable": true,
    "editable": true
   },
   "outputs": [],
   "source": [
    "import sys\n",
    "sys.path.insert(0, '..')\n",
    "import time\n",
    "\n",
    "import matplotlib.pyplot as plt\n",
    "\n",
    "%matplotlib inline"
   ]
  },
  {
   "cell_type": "code",
   "execution_count": 2,
   "metadata": {
    "collapsed": false,
    "deletable": true,
    "editable": true
   },
   "outputs": [],
   "source": [
    "from lib.segmentation import segmentation_adjacency, FormFeatureExtraction\n",
    "from lib.graph import coarsen_adj, perm_features\n",
    "\n",
    "def pipeline(image, segmentation_algorithm):\n",
    "    t_segmentation = time.process_time()\n",
    "    segmentation = segmentation_algorithm(image)\n",
    "    t_segmentation = time.process_time() - t_segmentation\n",
    "    \n",
    "    t_adjacency = time.process_time()\n",
    "    adj, points, mass = segmentation_adjacency(segmentation)\n",
    "    t_adjacency = time.process_time() - t_adjacency\n",
    "    \n",
    "    t_coarsen = time.process_time() \n",
    "    adjs_dist, adjs_rad, perm = coarsen_adj(adj, points, mass, levels=4)\n",
    "    t_coarsen = time.process_time() - t_coarsen\n",
    "    \n",
    "    t_features = time.process_time()\n",
    "    features = FormFeatureExtraction(segmentation).get_features()\n",
    "    features = perm_features(features, perm)\n",
    "    t_features = time.process_time() - t_features\n",
    "    \n",
    "    t_all = t_segmentation + t_adjacency + t_coarsen + t_features\n",
    "    \n",
    "    p_segmentation = 100 * t_segmentation / t_all\n",
    "    p_adjacency = 100 * t_adjacency / t_all\n",
    "    p_coarsen = 100 * t_coarsen / t_all\n",
    "    p_features = 100 * t_features / t_all\n",
    "    \n",
    "    print('Number of nodes: {}'.format(features.shape[0]))\n",
    "    print('Execution time: {:.5f}s'.format(t_all))\n",
    "    print('0. Segmentation: {:.5f}s, {:.2f}%'.format(t_segmentation, p_segmentation))\n",
    "    print('1. Adjacency generation: {:.5f}s, {:.2f}%'.format(t_adjacency, p_adjacency))\n",
    "    print('2. Coarsening: {:.5f}s, {:.2f}%'.format(t_coarsen, p_coarsen))\n",
    "    print('3. Feature extraction: {:.5f}s, {:.2f}%'.format(t_features, p_features))\n",
    "    \n",
    "    plt.bar(range(4), [p_segmentation, p_adjacency, p_coarsen, p_features], color=\"black\")\n",
    "    plt.ylabel('Percentage')"
   ]
  },
  {
   "cell_type": "markdown",
   "metadata": {
    "deletable": true,
    "editable": true
   },
   "source": [
    "## Load dataset images"
   ]
  },
  {
   "cell_type": "code",
   "execution_count": 3,
   "metadata": {
    "collapsed": false,
    "deletable": true,
    "editable": true
   },
   "outputs": [
    {
     "name": "stdout",
     "output_type": "stream",
     "text": [
      "Extracting ../data/mnist/train-images-idx3-ubyte.gz\n",
      "Extracting ../data/mnist/train-labels-idx1-ubyte.gz\n",
      "Extracting ../data/mnist/t10k-images-idx3-ubyte.gz\n",
      "Extracting ../data/mnist/t10k-labels-idx1-ubyte.gz\n"
     ]
    }
   ],
   "source": [
    "from lib.datasets import MNIST, Cifar10, PascalVOC\n",
    "\n",
    "mnist = MNIST('../data/mnist').test.next_batch(1, shuffle=False)[0][0]\n",
    "cifar_10 = Cifar10('../data/cifar_10').test.next_batch(2, shuffle=False)[0][1]\n",
    "pascal_voc = PascalVOC('../test_data').test.next_batch(3, shuffle=False)[0][2]"
   ]
  },
  {
   "cell_type": "code",
   "execution_count": 4,
   "metadata": {
    "collapsed": true,
    "deletable": true,
    "editable": true
   },
   "outputs": [],
   "source": [
    "from lib.segmentation import slic_fixed, quickshift_fixed"
   ]
  },
  {
   "cell_type": "markdown",
   "metadata": {
    "deletable": true,
    "editable": true
   },
   "source": [
    "## MNIST SLIC"
   ]
  },
  {
   "cell_type": "code",
   "execution_count": 5,
   "metadata": {
    "collapsed": false,
    "deletable": true,
    "editable": true
   },
   "outputs": [
    {
     "name": "stdout",
     "output_type": "stream",
     "text": [
      "Number of nodes: 80\n",
      "Execution time: 0.01620s\n",
      "0. Segmentation: 0.00468s, 28.89%\n",
      "1. Adjacency generation: 0.00056s, 3.44%\n",
      "2. Coarsening: 0.00884s, 54.58%\n",
      "3. Feature extraction: 0.00212s, 13.09%\n"
     ]
    },
    {
     "data": {
      "image/png": "[encoded data removed]",
      "text/plain": [
       "<matplotlib.figure.Figure at 0x12ed8b860>"
      ]
     },
     "metadata": {},
     "output_type": "display_data"
    }
   ],
   "source": [
    "slic = slic_fixed(num_segments=100, compactness=5, max_iterations=10, sigma=0)\n",
    "pipeline(mnist, slic)"
   ]
  },
  {
   "cell_type": "markdown",
   "metadata": {
    "deletable": true,
    "editable": true
   },
   "source": [
    "## MNIST Quickshift"
   ]
  },
  {
   "cell_type": "code",
   "execution_count": 6,
   "metadata": {
    "collapsed": false,
    "deletable": true,
    "editable": true
   },
   "outputs": [
    {
     "name": "stdout",
     "output_type": "stream",
     "text": [
      "Number of nodes: 96\n",
      "Execution time: 0.02149s\n",
      "0. Segmentation: 0.00514s, 23.89%\n",
      "1. Adjacency generation: 0.00057s, 2.67%\n",
      "2. Coarsening: 0.01234s, 57.40%\n",
      "3. Feature extraction: 0.00345s, 16.04%\n"
     ]
    },
    {
     "data": {
      "image/png": "[encoded data removed]",
      "text/plain": [
       "<matplotlib.figure.Figure at 0x120332240>"
      ]
     },
     "metadata": {},
     "output_type": "display_data"
    }
   ],
   "source": [
    "quickshift = quickshift_fixed(ratio=1, kernel_size=2, max_dist=2, sigma=0)\n",
    "pipeline(mnist, quickshift)"
   ]
  },
  {
   "cell_type": "markdown",
   "metadata": {
    "collapsed": true,
    "deletable": true,
    "editable": true
   },
   "source": [
    "## Cifar10 SLIC"
   ]
  },
  {
   "cell_type": "code",
   "execution_count": 7,
   "metadata": {
    "collapsed": false,
    "deletable": true,
    "editable": true
   },
   "outputs": [
    {
     "name": "stdout",
     "output_type": "stream",
     "text": [
      "Number of nodes: 288\n",
      "Execution time: 0.02441s\n",
      "0. Segmentation: 0.00409s, 16.76%\n",
      "1. Adjacency generation: 0.00097s, 3.99%\n",
      "2. Coarsening: 0.01587s, 65.01%\n",
      "3. Feature extraction: 0.00348s, 14.24%\n"
     ]
    },
    {
     "data": {
      "image/png": "[encoded data removed]",
      "text/plain": [
       "<matplotlib.figure.Figure at 0x12041a128>"
      ]
     },
     "metadata": {},
     "output_type": "display_data"
    }
   ],
   "source": [
    "slic = slic_fixed(num_segments=200, compactness=5, max_iterations=10, sigma=0)\n",
    "pipeline(cifar_10, slic)"
   ]
  },
  {
   "cell_type": "markdown",
   "metadata": {
    "deletable": true,
    "editable": true
   },
   "source": [
    "## Cifar10 Quickshift"
   ]
  },
  {
   "cell_type": "code",
   "execution_count": 8,
   "metadata": {
    "collapsed": false,
    "deletable": true,
    "editable": true
   },
   "outputs": [
    {
     "name": "stdout",
     "output_type": "stream",
     "text": [
      "Number of nodes: 208\n",
      "Execution time: 0.02163s\n",
      "0. Segmentation: 0.00380s, 17.56%\n",
      "1. Adjacency generation: 0.00078s, 3.58%\n",
      "2. Coarsening: 0.01378s, 63.74%\n",
      "3. Feature extraction: 0.00327s, 15.11%\n"
     ]
    },
    {
     "data": {
      "image/png": "[encoded data removed]",
      "text/plain": [
       "<matplotlib.figure.Figure at 0x1204b40b8>"
      ]
     },
     "metadata": {},
     "output_type": "display_data"
    }
   ],
   "source": [
    "quickshift = quickshift_fixed(ratio=1, kernel_size=1, max_dist=5, sigma=0)\n",
    "pipeline(cifar_10, quickshift)"
   ]
  },
  {
   "cell_type": "markdown",
   "metadata": {
    "deletable": true,
    "editable": true
   },
   "source": [
    "## PascalVOC SLIC"
   ]
  },
  {
   "cell_type": "code",
   "execution_count": 9,
   "metadata": {
    "collapsed": false,
    "deletable": true,
    "editable": true
   },
   "outputs": [
    {
     "name": "stdout",
     "output_type": "stream",
     "text": [
      "Number of nodes: 1808\n",
      "Execution time: 0.37260s\n",
      "0. Segmentation: 0.24131s, 64.76%\n",
      "1. Adjacency generation: 0.02869s, 7.70%\n",
      "2. Coarsening: 0.05682s, 15.25%\n",
      "3. Feature extraction: 0.04578s, 12.29%\n"
     ]
    },
    {
     "data": {
      "image/png": "[encoded data removed]",
      "text/plain": [
       "<matplotlib.figure.Figure at 0x120571a58>"
      ]
     },
     "metadata": {},
     "output_type": "display_data"
    }
   ],
   "source": [
    "slic = slic_fixed(num_segments=1600, compactness=30, max_iterations=10, sigma=0)\n",
    "pipeline(pascal_voc, slic)"
   ]
  },
  {
   "cell_type": "markdown",
   "metadata": {
    "deletable": true,
    "editable": true
   },
   "source": [
    "## PascalVOC Quickshift"
   ]
  },
  {
   "cell_type": "code",
   "execution_count": 10,
   "metadata": {
    "collapsed": false,
    "deletable": true,
    "editable": true
   },
   "outputs": [
    {
     "name": "stdout",
     "output_type": "stream",
     "text": [
      "Number of nodes: 2000\n",
      "Execution time: 0.77889s\n",
      "0. Segmentation: 0.60086s, 77.14%\n",
      "1. Adjacency generation: 0.04332s, 5.56%\n",
      "2. Coarsening: 0.08895s, 11.42%\n",
      "3. Feature extraction: 0.04576s, 5.88%\n"
     ]
    },
    {
     "data": {
      "image/png": "[encoded data removed]",
      "text/plain": [
       "<matplotlib.figure.Figure at 0x120571390>"
      ]
     },
     "metadata": {},
     "output_type": "display_data"
    }
   ],
   "source": [
    "quickshift = quickshift_fixed(ratio=0.75, kernel_size=2, max_dist=8, sigma=0)\n",
    "pipeline(pascal_voc, quickshift)"
   ]
  }
 ],
 "metadata": {
  "kernelspec": {
   "display_name": "Python 3",
   "language": "python",
   "name": "python3"
  },
  "language_info": {
   "codemirror_mode": {
    "name": "ipython",
    "version": 3
   },
   "file_extension": ".py",
   "mimetype": "text/x-python",
   "name": "python",
   "nbconvert_exporter": "python",
   "pygments_lexer": "ipython3",
   "version": "3.6.0"
  }
 },
 "nbformat": 4,
 "nbformat_minor": 2
}
